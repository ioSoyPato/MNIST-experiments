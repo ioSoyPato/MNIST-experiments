{
 "cells": [
  {
   "cell_type": "code",
   "execution_count": 17,
   "metadata": {},
   "outputs": [],
   "source": [
    "import pickle\n",
    "import pandas as pd\n",
    "import keras\n",
    "import mlflow\n",
    "\n",
    "from sklearn.metrics import  root_mean_squared_error\n",
    "from sklearn.feature_extraction import  DictVectorizer\n",
    "from sklearn.linear_model import Lasso, Ridge, LinearRegression\n",
    "\n",
    "\n",
    "import numpy as np\n",
    "import tensorflow as tf\n",
    "from tensorflow import keras\n",
    "from sklearn.model_selection import train_test_split\n",
    "from sklearn.metrics import classification_report, confusion_matrix\n",
    "from sklearn.linear_model import LogisticRegression\n",
    "from sklearn.neighbors import KNeighborsClassifier\n",
    "from sklearn.svm import SVC\n",
    "from sklearn.ensemble import RandomForestClassifier\n",
    "from sklearn.neural_network import MLPClassifier\n",
    "import matplotlib.pyplot as plt\n",
    "\n",
    "\n",
    "from sklearn.metrics import  root_mean_squared_error\n",
    "from sklearn.feature_extraction import  DictVectorizer\n",
    "from sklearn.linear_model import Lasso, Ridge, LinearRegression\n",
    "from sklearn.ensemble import RandomForestRegressor\n",
    "from sklearn.metrics import mean_squared_error\n",
    "from hyperopt import fmin, tpe, hp, STATUS_OK, Trials\n",
    "import numpy as np"
   ]
  },
  {
   "cell_type": "code",
   "execution_count": 18,
   "metadata": {},
   "outputs": [],
   "source": [
    "# Cargar datos MNIST\n",
    "(x_train, y_train), (x_test, y_test) = keras.datasets.mnist.load_data()\n",
    "\n",
    "# Aplanar imágenes para modelos clásicos de ML\n",
    "x_train_flat = x_train.reshape(x_train.shape[0], -1).astype(np.float32) / 255.0\n",
    "x_test_flat = x_test.reshape(x_test.shape[0], -1).astype(np.float32) / 255.0\n",
    "\n",
    "# Crear datasets usando MLflow\n",
    "training_dataset = mlflow.data.from_numpy(x_train_flat, targets=y_train, name=\"MNIST-dataset-01\")\n",
    "validation_dataset = mlflow.data.from_numpy(x_test_flat, targets=y_test, name=\"MNIST-dataset-02\")\n"
   ]
  },
  {
   "cell_type": "markdown",
   "metadata": {},
   "source": [
    "### <font color='darkblue'>dagshub</font> upload experiments"
   ]
  },
  {
   "cell_type": "code",
   "execution_count": null,
   "metadata": {},
   "outputs": [],
   "source": [
    "import dagshub\n",
    "import mlflow\n",
    "\n",
    "\n",
    "dagshub.init(url=\"https://dagshub.com/ioSoyPato/MNIST-experiments\", mlflow=True)\n",
    "\n",
    "MLFLOW_TRACKING_URI = mlflow.get_tracking_uri()\n",
    "\n",
    "mlflow.set_tracking_uri(MLFLOW_TRACKING_URI)\n",
    "mlflow.set_experiment(experiment_name=\"nyc-taxi-experiment\")"
   ]
  },
  {
   "cell_type": "code",
   "execution_count": 20,
   "metadata": {},
   "outputs": [],
   "source": [
    "# Cargar datos MNIST\n",
    "(x_train, y_train), (x_test, y_test) = keras.datasets.mnist.load_data()\n",
    "\n",
    "# Aplanar imágenes para modelos clásicos de ML\n",
    "x_train_flat = x_train.reshape(x_train.shape[0], -1).astype(np.float32) / 255.0\n",
    "x_test_flat = x_test.reshape(x_test.shape[0], -1).astype(np.float32) / 255.0\n",
    "\n",
    "# Crear datasets usando MLflow desde numpy\n",
    "training_dataset = mlflow.data.from_numpy(x_train_flat, targets=y_train, name=\"MNIST-dataset-01\")\n",
    "validation_dataset = mlflow.data.from_numpy(x_test_flat, targets=y_test, name=\"MNIST-dataset-02\")\n"
   ]
  },
  {
   "cell_type": "code",
   "execution_count": null,
   "metadata": {},
   "outputs": [],
   "source": [
    "mlflow.sklearn.autolog()\n",
    "\n",
    "def objective_rf(params):\n",
    "    with mlflow.start_run(nested=True):\n",
    "        # Set model tag\n",
    "        mlflow.set_tag(\"model_family\", \"random_forest\")\n",
    "        \n",
    "        # Log parameters\n",
    "        mlflow.log_params(params)\n",
    "        \n",
    "        # Train RandomForest model\n",
    "        rf_model = RandomForestRegressor(\n",
    "            n_estimators=int(params['n_estimators']),\n",
    "            max_depth=int(params['max_depth']),\n",
    "            min_samples_split=int(params['min_samples_split']),\n",
    "            min_samples_leaf=int(params['min_samples_leaf']),\n",
    "            random_state=42\n",
    "        )\n",
    "        rf_model.fit(x_train_flat, y_train)\n",
    "        \n",
    "        # Predict on validation dataset\n",
    "        y_pred = rf_model.predict(x_test_flat)\n",
    "        \n",
    "        # Calculate RMSE\n",
    "        rmse = np.sqrt(mean_squared_error(y_test, y_pred))\n",
    "        \n",
    "        # Log RMSE metric\n",
    "        mlflow.log_metric(\"rmse\", rmse)\n",
    "\n",
    "    return {'loss': rmse, 'status': STATUS_OK}\n",
    "\n",
    "# Define search space for RandomForest\n",
    "search_space_rf = {\n",
    "    'n_estimators': hp.quniform('n_estimators', 50, 100, 1),\n",
    "    'max_depth': hp.quniform('max_depth', 5, 15, 1),\n",
    "    'min_samples_split': hp.quniform('min_samples_split', 2, 5, 1),\n",
    "    'min_samples_leaf': hp.quniform('min_samples_leaf', 1, 2, 1),\n",
    "}\n",
    "\n",
    "\n",
    "# Run hyperparameter optimization\n",
    "with mlflow.start_run(run_name=\"Parent Random Forest\", nested=True):\n",
    "    best_params_rf = fmin(\n",
    "        fn=objective_rf,\n",
    "        space=search_space_rf,\n",
    "        algo=tpe.suggest,\n",
    "        max_evals=10,\n",
    "        trials=Trials()\n",
    "    )\n",
    "    \n",
    "    # Log best parameters\n",
    "    mlflow.log_params(best_params_rf)\n"
   ]
  },
  {
   "cell_type": "code",
   "execution_count": null,
   "metadata": {},
   "outputs": [],
   "source": []
  }
 ],
 "metadata": {
  "kernelspec": {
   "display_name": "Python 3",
   "language": "python",
   "name": "python3"
  },
  "language_info": {
   "codemirror_mode": {
    "name": "ipython",
    "version": 3
   },
   "file_extension": ".py",
   "mimetype": "text/x-python",
   "name": "python",
   "nbconvert_exporter": "python",
   "pygments_lexer": "ipython3",
   "version": "3.10.12"
  }
 },
 "nbformat": 4,
 "nbformat_minor": 2
}
